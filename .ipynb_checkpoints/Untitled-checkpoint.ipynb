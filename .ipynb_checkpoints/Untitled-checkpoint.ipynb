{
 "cells": [
  {
   "cell_type": "code",
   "execution_count": 2,
   "id": "207f0e0b-7126-4154-b991-aa528975e331",
   "metadata": {},
   "outputs": [
    {
     "ename": "SyntaxError",
     "evalue": "EOF while scanning triple-quoted string literal (<ipython-input-2-1b5cc7e448d3>, line 24)",
     "output_type": "error",
     "traceback": [
      "\u001b[0;36m  File \u001b[0;32m\"<ipython-input-2-1b5cc7e448d3>\"\u001b[0;36m, line \u001b[0;32m24\u001b[0m\n\u001b[0;31m    '''\u001b[0m\n\u001b[0m       ^\u001b[0m\n\u001b[0;31mSyntaxError\u001b[0m\u001b[0;31m:\u001b[0m EOF while scanning triple-quoted string literal\n"
     ]
    }
   ],
   "source": [
    "'''data = [\n",
    "  [4.9, 3.1, 1.5, 0.1],\n",
    "  [5.0, 3.2, 1.2, 0.2],\n",
    "  [5.5, -3.5, 1.3, 0.2],\n",
    "  [4.9, 3.1, -1.5, 0.1],\n",
    "  [4.4, 3.0, 1.3, 0.2],\n",
    "  [5.1, -1, 1.5, 0.2],\n",
    "  [5.0, 3.5, -1.3, 0.3],\n",
    "]\n",
    "# 1. Write a method that returns true if the input dataset has any negative values.\n",
    "# 2. Write a method to find the most frequent value of the 2nd column in the dataset.\n",
    "# 3. Write a method that returns all rows of dataset that do not have any negative values.\n",
    "'''\n",
    "\n",
    "data = [\n",
    "  [4.9, 3.1, 1.5, 0.1],\n",
    "  [5.0, 3.2, 1.2, 0.2],\n",
    "  [5.5, -3.5, 1.3, 0.2],\n",
    "  [4.9, 3.1, -1.5, 0.1],\n",
    "  [4.4, 3.0, 1.3, 0.2],\n",
    "  [5.1, -1, 1.5, 0.2],\n",
    "  [5.0, 3.5, -1.3, 0.3],\n",
    "]\n",
    "'''"
   ]
  },
  {
   "cell_type": "code",
   "execution_count": 4,
   "id": "2bada6ae-c7ee-4115-aca5-3fa4e33318a9",
   "metadata": {},
   "outputs": [],
   "source": [
    "data = [\n",
    "  [4.9, 3.1, 1.5, 0.1],\n",
    "  [5.0, 3.2, 1.2, 0.2],\n",
    "  [5.5, -3.5, 1.3, 0.2],\n",
    "  [4.9, 3.1, -1.5, 0.1],\n",
    "  [4.4, 3.0, 1.3, 0.2],\n",
    "  [5.1, -1, 1.5, 0.2],\n",
    "  [5.0, 3.5, -1.3, 0.3],\n",
    "]"
   ]
  },
  {
   "cell_type": "code",
   "execution_count": 5,
   "id": "2c4f4c1d-76b0-428d-9def-d9ffc566856e",
   "metadata": {},
   "outputs": [
    {
     "data": {
      "text/plain": [
       "[4.9, 3.1, 1.5, 0.1]"
      ]
     },
     "execution_count": 5,
     "metadata": {},
     "output_type": "execute_result"
    }
   ],
   "source": [
    "data[0]"
   ]
  },
  {
   "cell_type": "code",
   "execution_count": 18,
   "id": "de8976d4-34e1-466b-a993-1485bf397540",
   "metadata": {},
   "outputs": [],
   "source": [
    "def negatives(data):\n",
    "    negative_list = []\n",
    "    for l in data:\n",
    "        for num in l:\n",
    "            if num < 0:\n",
    "                negative_list.append(num)\n",
    "    if len(negative_list) > 0:\n",
    "        return True\n",
    "    else:\n",
    "        return False"
   ]
  },
  {
   "cell_type": "code",
   "execution_count": 108,
   "id": "59b388c3-3660-4a3f-939f-c8b888fe8490",
   "metadata": {},
   "outputs": [],
   "source": [
    "# 2. Write a method to find the most frequent value of the 2nd column in the dataset.\n",
    "import numpy as np\n",
    "def frequent(data):\n",
    "    second_column_values = []\n",
    "    count = []\n",
    "    for l in data:\n",
    "        second_column_values.append(l[1])\n",
    "    for n in second_column_values:\n",
    "        count.append(second_column_values.count(n))\n",
    "    max_count = max(count)\n",
    "    index_max_count = count.index(max_count)\n",
    "    return second_column_values[index_max_count]"
   ]
  },
  {
   "cell_type": "code",
   "execution_count": 109,
   "id": "bad904a9-bf7a-4b60-aacb-ba98bcb92262",
   "metadata": {},
   "outputs": [
    {
     "data": {
      "text/plain": [
       "3.1"
      ]
     },
     "execution_count": 109,
     "metadata": {},
     "output_type": "execute_result"
    }
   ],
   "source": [
    "frequent(data)"
   ]
  },
  {
   "cell_type": "code",
   "execution_count": 43,
   "id": "bf4bac27-bd7b-494d-a5cd-ccd6cf87b458",
   "metadata": {},
   "outputs": [],
   "source": [
    "# 3. Write a method that returns all rows of dataset that do not have any negative values.\n",
    "def positives(data):\n",
    "    data_list = data.copy()\n",
    "    for l in data:\n",
    "        for num in l:\n",
    "            if num < 0:\n",
    "                data_list.remove(l)\n",
    "    return data_list"
   ]
  },
  {
   "cell_type": "code",
   "execution_count": 44,
   "id": "07c63a61-c740-452d-ba11-5c60ce09e027",
   "metadata": {},
   "outputs": [
    {
     "data": {
      "text/plain": [
       "[[4.9, 3.1, 1.5, 0.1], [5.0, 3.2, 1.2, 0.2], [4.4, 3.0, 1.3, 0.2]]"
      ]
     },
     "execution_count": 44,
     "metadata": {},
     "output_type": "execute_result"
    }
   ],
   "source": [
    "positives(data)"
   ]
  },
  {
   "cell_type": "code",
   "execution_count": null,
   "id": "4ed42ffd-c324-4fe1-90a6-ec02346eba6c",
   "metadata": {},
   "outputs": [],
   "source": []
  }
 ],
 "metadata": {
  "kernelspec": {
   "display_name": "Python 3",
   "language": "python",
   "name": "python3"
  },
  "language_info": {
   "codemirror_mode": {
    "name": "ipython",
    "version": 3
   },
   "file_extension": ".py",
   "mimetype": "text/x-python",
   "name": "python",
   "nbconvert_exporter": "python",
   "pygments_lexer": "ipython3",
   "version": "3.9.4"
  }
 },
 "nbformat": 4,
 "nbformat_minor": 5
}
