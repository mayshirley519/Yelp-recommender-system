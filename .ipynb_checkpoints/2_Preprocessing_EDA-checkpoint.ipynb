{
 "cells": [
  {
   "cell_type": "code",
   "execution_count": 33,
   "id": "0be8325c-33a7-40ef-8fb2-bb19733f77e4",
   "metadata": {},
   "outputs": [],
   "source": [
    "import numpy as np\n",
    "import pandas as pd\n",
    "import json\n",
    "import pickle\n",
    "import seaborn as sns\n",
    "import matplotlib.pyplot as plt\n",
    "\n",
    "%matplotlib inline"
   ]
  },
  {
   "cell_type": "code",
   "execution_count": 34,
   "id": "d12eba3e-9f9d-40b4-81c3-4e585990ac5a",
   "metadata": {},
   "outputs": [],
   "source": [
    "# Load Data from pickle\n",
    "with open('../business.pkl', 'rb') as pickle_in: # 'rb' read byte\n",
    "    business = pickle.load(pickle_in)\n",
    "with open('../reviews.pkl', 'rb') as pickle_in: # 'rb' read byte\n",
    "    reviews = pickle.load(pickle_in)"
   ]
  },
  {
   "cell_type": "code",
   "execution_count": 35,
   "id": "e46db545-f287-4912-b6bb-6fb3e4bb8987",
   "metadata": {},
   "outputs": [
    {
     "data": {
      "text/html": [
       "<div>\n",
       "<style scoped>\n",
       "    .dataframe tbody tr th:only-of-type {\n",
       "        vertical-align: middle;\n",
       "    }\n",
       "\n",
       "    .dataframe tbody tr th {\n",
       "        vertical-align: top;\n",
       "    }\n",
       "\n",
       "    .dataframe thead th {\n",
       "        text-align: right;\n",
       "    }\n",
       "</style>\n",
       "<table border=\"1\" class=\"dataframe\">\n",
       "  <thead>\n",
       "    <tr style=\"text-align: right;\">\n",
       "      <th></th>\n",
       "      <th>business_id</th>\n",
       "      <th>name</th>\n",
       "      <th>city</th>\n",
       "      <th>state</th>\n",
       "      <th>postal_code</th>\n",
       "      <th>latitude</th>\n",
       "      <th>longitude</th>\n",
       "      <th>stars</th>\n",
       "      <th>review_count</th>\n",
       "      <th>is_open</th>\n",
       "      <th>attributes</th>\n",
       "      <th>categories</th>\n",
       "      <th>hours</th>\n",
       "    </tr>\n",
       "  </thead>\n",
       "  <tbody>\n",
       "    <tr>\n",
       "      <th>12</th>\n",
       "      <td>HPA_qyMEddpAEtFof02ixg</td>\n",
       "      <td>Mr G's Pizza &amp; Subs</td>\n",
       "      <td>Peabody</td>\n",
       "      <td>MA</td>\n",
       "      <td>01960</td>\n",
       "      <td>42.541155</td>\n",
       "      <td>-70.973438</td>\n",
       "      <td>4.0</td>\n",
       "      <td>39</td>\n",
       "      <td>1</td>\n",
       "      <td>{'RestaurantsGoodForGroups': 'True', 'HasTV': ...</td>\n",
       "      <td>Food, Pizza, Restaurants</td>\n",
       "      <td>{'Monday': '11:0-21:0', 'Tuesday': '11:0-21:0'...</td>\n",
       "    </tr>\n",
       "    <tr>\n",
       "      <th>26</th>\n",
       "      <td>hcRxdDg7DYryCxCoI8ySQA</td>\n",
       "      <td>Longwood Galleria</td>\n",
       "      <td>Boston</td>\n",
       "      <td>MA</td>\n",
       "      <td>02215</td>\n",
       "      <td>42.338544</td>\n",
       "      <td>-71.106842</td>\n",
       "      <td>2.5</td>\n",
       "      <td>24</td>\n",
       "      <td>1</td>\n",
       "      <td>{'RestaurantsPriceRange2': '1', 'BusinessAccep...</td>\n",
       "      <td>Restaurants, Shopping, Shopping Centers</td>\n",
       "      <td>{'Monday': '6:30-22:0', 'Tuesday': '6:30-22:0'...</td>\n",
       "    </tr>\n",
       "    <tr>\n",
       "      <th>29</th>\n",
       "      <td>jGennaZUr2MsJyRhijNBfA</td>\n",
       "      <td>Legal Sea Foods</td>\n",
       "      <td>Boston</td>\n",
       "      <td>MA</td>\n",
       "      <td>02128</td>\n",
       "      <td>42.363442</td>\n",
       "      <td>-71.025781</td>\n",
       "      <td>3.5</td>\n",
       "      <td>856</td>\n",
       "      <td>1</td>\n",
       "      <td>{'NoiseLevel': 'u'average'', 'BikeParking': 'F...</td>\n",
       "      <td>Sandwiches, Food, Restaurants, Breakfast &amp; Bru...</td>\n",
       "      <td>{'Monday': '6:0-21:0', 'Tuesday': '6:0-21:0', ...</td>\n",
       "    </tr>\n",
       "    <tr>\n",
       "      <th>35</th>\n",
       "      <td>iPD8BBvea6YldQZPHzVrSQ</td>\n",
       "      <td>Espresso Minute</td>\n",
       "      <td>Boston</td>\n",
       "      <td>MA</td>\n",
       "      <td>02115</td>\n",
       "      <td>42.342673</td>\n",
       "      <td>-71.084239</td>\n",
       "      <td>4.5</td>\n",
       "      <td>7</td>\n",
       "      <td>0</td>\n",
       "      <td>{'NoiseLevel': ''quiet'', 'GoodForKids': 'True...</td>\n",
       "      <td>Creperies, Restaurants, Food, Coffee &amp; Tea, Br...</td>\n",
       "      <td>{'Tuesday': '8:0-20:0', 'Wednesday': '8:0-20:0...</td>\n",
       "    </tr>\n",
       "    <tr>\n",
       "      <th>54</th>\n",
       "      <td>Z2JC3Yrz82kyS86zEVJG5A</td>\n",
       "      <td>Gigi's Roast Beef &amp; Pizza</td>\n",
       "      <td>Burlington</td>\n",
       "      <td>MA</td>\n",
       "      <td>01803</td>\n",
       "      <td>42.506935</td>\n",
       "      <td>-71.195854</td>\n",
       "      <td>3.0</td>\n",
       "      <td>16</td>\n",
       "      <td>0</td>\n",
       "      <td>{'RestaurantsTakeOut': 'True', 'NoiseLevel': '...</td>\n",
       "      <td>Restaurants, Sandwiches, Pizza</td>\n",
       "      <td>{'Monday': '11:0-21:0', 'Tuesday': '11:0-21:0'...</td>\n",
       "    </tr>\n",
       "  </tbody>\n",
       "</table>\n",
       "</div>"
      ],
      "text/plain": [
       "               business_id                       name        city state  \\\n",
       "12  HPA_qyMEddpAEtFof02ixg        Mr G's Pizza & Subs     Peabody    MA   \n",
       "26  hcRxdDg7DYryCxCoI8ySQA          Longwood Galleria      Boston    MA   \n",
       "29  jGennaZUr2MsJyRhijNBfA            Legal Sea Foods      Boston    MA   \n",
       "35  iPD8BBvea6YldQZPHzVrSQ            Espresso Minute      Boston    MA   \n",
       "54  Z2JC3Yrz82kyS86zEVJG5A  Gigi's Roast Beef & Pizza  Burlington    MA   \n",
       "\n",
       "   postal_code   latitude  longitude  stars  review_count  is_open  \\\n",
       "12       01960  42.541155 -70.973438    4.0            39        1   \n",
       "26       02215  42.338544 -71.106842    2.5            24        1   \n",
       "29       02128  42.363442 -71.025781    3.5           856        1   \n",
       "35       02115  42.342673 -71.084239    4.5             7        0   \n",
       "54       01803  42.506935 -71.195854    3.0            16        0   \n",
       "\n",
       "                                           attributes  \\\n",
       "12  {'RestaurantsGoodForGroups': 'True', 'HasTV': ...   \n",
       "26  {'RestaurantsPriceRange2': '1', 'BusinessAccep...   \n",
       "29  {'NoiseLevel': 'u'average'', 'BikeParking': 'F...   \n",
       "35  {'NoiseLevel': ''quiet'', 'GoodForKids': 'True...   \n",
       "54  {'RestaurantsTakeOut': 'True', 'NoiseLevel': '...   \n",
       "\n",
       "                                           categories  \\\n",
       "12                           Food, Pizza, Restaurants   \n",
       "26            Restaurants, Shopping, Shopping Centers   \n",
       "29  Sandwiches, Food, Restaurants, Breakfast & Bru...   \n",
       "35  Creperies, Restaurants, Food, Coffee & Tea, Br...   \n",
       "54                     Restaurants, Sandwiches, Pizza   \n",
       "\n",
       "                                                hours  \n",
       "12  {'Monday': '11:0-21:0', 'Tuesday': '11:0-21:0'...  \n",
       "26  {'Monday': '6:30-22:0', 'Tuesday': '6:30-22:0'...  \n",
       "29  {'Monday': '6:0-21:0', 'Tuesday': '6:0-21:0', ...  \n",
       "35  {'Tuesday': '8:0-20:0', 'Wednesday': '8:0-20:0...  \n",
       "54  {'Monday': '11:0-21:0', 'Tuesday': '11:0-21:0'...  "
      ]
     },
     "execution_count": 35,
     "metadata": {},
     "output_type": "execute_result"
    }
   ],
   "source": [
    "business.head()"
   ]
  },
  {
   "cell_type": "code",
   "execution_count": 36,
   "id": "3b523646-c7c9-4b01-9c5b-d061ad4c7e9b",
   "metadata": {},
   "outputs": [],
   "source": [
    "# Rename column names \n",
    "business.rename(columns={'stars': 'business_stars'}, inplace=True)"
   ]
  },
  {
   "cell_type": "code",
   "execution_count": 37,
   "id": "5264fb2e-08d0-4da6-ad6a-fe6a06a1524c",
   "metadata": {},
   "outputs": [
    {
     "data": {
      "text/html": [
       "<div>\n",
       "<style scoped>\n",
       "    .dataframe tbody tr th:only-of-type {\n",
       "        vertical-align: middle;\n",
       "    }\n",
       "\n",
       "    .dataframe tbody tr th {\n",
       "        vertical-align: top;\n",
       "    }\n",
       "\n",
       "    .dataframe thead th {\n",
       "        text-align: right;\n",
       "    }\n",
       "</style>\n",
       "<table border=\"1\" class=\"dataframe\">\n",
       "  <thead>\n",
       "    <tr style=\"text-align: right;\">\n",
       "      <th></th>\n",
       "      <th>user_id</th>\n",
       "      <th>business_id</th>\n",
       "      <th>stars</th>\n",
       "      <th>text</th>\n",
       "      <th>date</th>\n",
       "      <th>year</th>\n",
       "      <th>month</th>\n",
       "    </tr>\n",
       "  </thead>\n",
       "  <tbody>\n",
       "    <tr>\n",
       "      <th>0</th>\n",
       "      <td>ak0TdVmGKo4pwqdJSTLwWw</td>\n",
       "      <td>buF9druCkbuXLX526sGELQ</td>\n",
       "      <td>4.0</td>\n",
       "      <td>Apparently Prides Osteria had a rough summer a...</td>\n",
       "      <td>2014-10-11 03:34:02</td>\n",
       "      <td>2014</td>\n",
       "      <td>10</td>\n",
       "    </tr>\n",
       "    <tr>\n",
       "      <th>1</th>\n",
       "      <td>YoVfDbnISlW0f7abNQACIg</td>\n",
       "      <td>RA4V8pr014UyUbDvI-LW2A</td>\n",
       "      <td>4.0</td>\n",
       "      <td>This store is pretty good. Not as great as Wal...</td>\n",
       "      <td>2015-07-03 20:38:25</td>\n",
       "      <td>2015</td>\n",
       "      <td>7</td>\n",
       "    </tr>\n",
       "    <tr>\n",
       "      <th>2</th>\n",
       "      <td>eC5evKn1TWDyHCyQAwguUw</td>\n",
       "      <td>_sS2LBIGNT5NQb6PD1Vtjw</td>\n",
       "      <td>5.0</td>\n",
       "      <td>I called WVM on the recommendation of a couple...</td>\n",
       "      <td>2013-05-28 20:38:06</td>\n",
       "      <td>2013</td>\n",
       "      <td>5</td>\n",
       "    </tr>\n",
       "    <tr>\n",
       "      <th>3</th>\n",
       "      <td>SFQ1jcnGguO0LYWnbbftAA</td>\n",
       "      <td>0AzLzHfOJgL7ROwhdww2ew</td>\n",
       "      <td>2.0</td>\n",
       "      <td>I've stayed at many Marriott and Renaissance M...</td>\n",
       "      <td>2010-01-08 02:29:15</td>\n",
       "      <td>2010</td>\n",
       "      <td>1</td>\n",
       "    </tr>\n",
       "    <tr>\n",
       "      <th>4</th>\n",
       "      <td>0kA0PAJ8QFMeveQWHFqz2A</td>\n",
       "      <td>8zehGz9jnxPqXtOc7KaJxA</td>\n",
       "      <td>4.0</td>\n",
       "      <td>The food is always great here. The service fro...</td>\n",
       "      <td>2011-07-28 18:05:01</td>\n",
       "      <td>2011</td>\n",
       "      <td>7</td>\n",
       "    </tr>\n",
       "  </tbody>\n",
       "</table>\n",
       "</div>"
      ],
      "text/plain": [
       "                  user_id             business_id  stars  \\\n",
       "0  ak0TdVmGKo4pwqdJSTLwWw  buF9druCkbuXLX526sGELQ    4.0   \n",
       "1  YoVfDbnISlW0f7abNQACIg  RA4V8pr014UyUbDvI-LW2A    4.0   \n",
       "2  eC5evKn1TWDyHCyQAwguUw  _sS2LBIGNT5NQb6PD1Vtjw    5.0   \n",
       "3  SFQ1jcnGguO0LYWnbbftAA  0AzLzHfOJgL7ROwhdww2ew    2.0   \n",
       "4  0kA0PAJ8QFMeveQWHFqz2A  8zehGz9jnxPqXtOc7KaJxA    4.0   \n",
       "\n",
       "                                                text                date  \\\n",
       "0  Apparently Prides Osteria had a rough summer a... 2014-10-11 03:34:02   \n",
       "1  This store is pretty good. Not as great as Wal... 2015-07-03 20:38:25   \n",
       "2  I called WVM on the recommendation of a couple... 2013-05-28 20:38:06   \n",
       "3  I've stayed at many Marriott and Renaissance M... 2010-01-08 02:29:15   \n",
       "4  The food is always great here. The service fro... 2011-07-28 18:05:01   \n",
       "\n",
       "   year  month  \n",
       "0  2014     10  \n",
       "1  2015      7  \n",
       "2  2013      5  \n",
       "3  2010      1  \n",
       "4  2011      7  "
      ]
     },
     "execution_count": 37,
     "metadata": {},
     "output_type": "execute_result"
    }
   ],
   "source": [
    "reviews.head()"
   ]
  },
  {
   "cell_type": "code",
   "execution_count": 38,
   "id": "3c849de9-b33c-4d44-9e23-90733c289654",
   "metadata": {},
   "outputs": [],
   "source": [
    "# Rename column names \n",
    "reviews.rename(columns={'stars': 'reviews_stars'}, inplace=True)"
   ]
  },
  {
   "cell_type": "code",
   "execution_count": null,
   "id": "c5611844-aadc-4afc-99f7-625e18875ae5",
   "metadata": {},
   "outputs": [],
   "source": [
    "# Merge business and reviews datasets into one\n",
    "business_reviews = business.merge(reviews, 'inner', on='business_id')"
   ]
  },
  {
   "cell_type": "markdown",
   "id": "f05c8548-c2e2-4fb3-bf76-e75e03eba393",
   "metadata": {},
   "source": [
    "# EDA"
   ]
  },
  {
   "cell_type": "code",
   "execution_count": 23,
   "id": "8bb6a60a-e2f1-4227-bca4-babf2b5a3fdc",
   "metadata": {},
   "outputs": [
    {
     "data": {
      "text/plain": [
       "<seaborn.axisgrid.FacetGrid at 0x10f752a00>"
      ]
     },
     "execution_count": 23,
     "metadata": {},
     "output_type": "execute_result"
    },
    {
     "data": {
      "image/png": "[encoded data removed]",
      "text/plain": [
       "<Figure size 360x360 with 1 Axes>"
      ]
     },
     "metadata": {
      "needs_background": "light"
     },
     "output_type": "display_data"
    }
   ],
   "source": [
    "sns.displot(business_reviews['year'], )"
   ]
  },
  {
   "cell_type": "code",
   "execution_count": 31,
   "id": "0b072798-ddf9-4ad0-993c-0c107e038626",
   "metadata": {},
   "outputs": [
    {
     "data": {
      "text/plain": [
       "<seaborn.axisgrid.FacetGrid at 0x2904aa640>"
      ]
     },
     "execution_count": 31,
     "metadata": {},
     "output_type": "execute_result"
    },
    {
     "data": {
      "image/png": "[encoded data removed]",
      "text/plain": [
       "<Figure size 360x360 with 1 Axes>"
      ]
     },
     "metadata": {
      "needs_background": "light"
     },
     "output_type": "display_data"
    }
   ],
   "source": [
    "sns.displot(business_reviews['business_stars'] )"
   ]
  },
  {
   "cell_type": "code",
   "execution_count": null,
   "id": "c417c00d-4adb-4170-80b8-845ebf44de6c",
   "metadata": {},
   "outputs": [],
   "source": []
  }
 ],
 "metadata": {
  "kernelspec": {
   "display_name": "Python 3",
   "language": "python",
   "name": "python3"
  },
  "language_info": {
   "codemirror_mode": {
    "name": "ipython",
    "version": 3
   },
   "file_extension": ".py",
   "mimetype": "text/x-python",
   "name": "python",
   "nbconvert_exporter": "python",
   "pygments_lexer": "ipython3",
   "version": "3.9.4"
  }
 },
 "nbformat": 4,
 "nbformat_minor": 5
}
