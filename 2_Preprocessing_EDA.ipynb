{
 "cells": [
  {
   "cell_type": "code",
   "execution_count": 1,
   "id": "0be8325c-33a7-40ef-8fb2-bb19733f77e4",
   "metadata": {},
   "outputs": [],
   "source": [
    "import numpy as np\n",
    "import pandas as pd\n",
    "import json\n",
    "import pickle\n",
    "import seaborn as sns\n",
    "import matplotlib.pyplot as plt\n",
    "from datetime import datetime\n",
    "from sklearn.preprocessing import MultiLabelBinarizer\n",
    "\n",
    "\n",
    "\n",
    "%matplotlib inline"
   ]
  },
  {
   "cell_type": "code",
   "execution_count": 2,
   "id": "d12eba3e-9f9d-40b4-81c3-4e585990ac5a",
   "metadata": {},
   "outputs": [],
   "source": [
    "# Load Data from pickle\n",
    "with open('../business.pkl', 'rb') as pickle_in: # 'rb' read byte\n",
    "    business = pickle.load(pickle_in)\n",
    "with open('../reviews.pkl', 'rb') as pickle_in: # 'rb' read byte\n",
    "    reviews = pickle.load(pickle_in)\n",
    "with open('../checkin.pkl', 'rb') as pickle_in: # 'rb' read byte\n",
    "    checkin = pickle.load(pickle_in)\n",
    "with open('../tip.pkl', 'rb') as pickle_in: # 'rb' read byte\n",
    "    tip = pickle.load(pickle_in)"
   ]
  },
  {
   "cell_type": "code",
   "execution_count": 3,
   "id": "e46db545-f287-4912-b6bb-6fb3e4bb8987",
   "metadata": {},
   "outputs": [
    {
     "data": {
      "text/html": [
       "<div>\n",
       "<style scoped>\n",
       "    .dataframe tbody tr th:only-of-type {\n",
       "        vertical-align: middle;\n",
       "    }\n",
       "\n",
       "    .dataframe tbody tr th {\n",
       "        vertical-align: top;\n",
       "    }\n",
       "\n",
       "    .dataframe thead th {\n",
       "        text-align: right;\n",
       "    }\n",
       "</style>\n",
       "<table border=\"1\" class=\"dataframe\">\n",
       "  <thead>\n",
       "    <tr style=\"text-align: right;\">\n",
       "      <th></th>\n",
       "      <th>business_id</th>\n",
       "      <th>name</th>\n",
       "      <th>city</th>\n",
       "      <th>state</th>\n",
       "      <th>postal_code</th>\n",
       "      <th>latitude</th>\n",
       "      <th>longitude</th>\n",
       "      <th>business_stars</th>\n",
       "      <th>review_count</th>\n",
       "      <th>is_open</th>\n",
       "      <th>attributes</th>\n",
       "      <th>categories</th>\n",
       "      <th>hours</th>\n",
       "    </tr>\n",
       "  </thead>\n",
       "  <tbody>\n",
       "    <tr>\n",
       "      <th>12</th>\n",
       "      <td>HPA_qyMEddpAEtFof02ixg</td>\n",
       "      <td>Mr G's Pizza &amp; Subs</td>\n",
       "      <td>Peabody</td>\n",
       "      <td>MA</td>\n",
       "      <td>01960</td>\n",
       "      <td>42.541155</td>\n",
       "      <td>-70.973438</td>\n",
       "      <td>4.0</td>\n",
       "      <td>39</td>\n",
       "      <td>1</td>\n",
       "      <td>{'RestaurantsGoodForGroups': 'True', 'HasTV': ...</td>\n",
       "      <td>Food, Pizza, Restaurants</td>\n",
       "      <td>{'Monday': '11:0-21:0', 'Tuesday': '11:0-21:0'...</td>\n",
       "    </tr>\n",
       "    <tr>\n",
       "      <th>26</th>\n",
       "      <td>hcRxdDg7DYryCxCoI8ySQA</td>\n",
       "      <td>Longwood Galleria</td>\n",
       "      <td>Boston</td>\n",
       "      <td>MA</td>\n",
       "      <td>02215</td>\n",
       "      <td>42.338544</td>\n",
       "      <td>-71.106842</td>\n",
       "      <td>2.5</td>\n",
       "      <td>24</td>\n",
       "      <td>1</td>\n",
       "      <td>{'RestaurantsPriceRange2': '1', 'BusinessAccep...</td>\n",
       "      <td>Restaurants, Shopping, Shopping Centers</td>\n",
       "      <td>{'Monday': '6:30-22:0', 'Tuesday': '6:30-22:0'...</td>\n",
       "    </tr>\n",
       "    <tr>\n",
       "      <th>29</th>\n",
       "      <td>jGennaZUr2MsJyRhijNBfA</td>\n",
       "      <td>Legal Sea Foods</td>\n",
       "      <td>Boston</td>\n",
       "      <td>MA</td>\n",
       "      <td>02128</td>\n",
       "      <td>42.363442</td>\n",
       "      <td>-71.025781</td>\n",
       "      <td>3.5</td>\n",
       "      <td>856</td>\n",
       "      <td>1</td>\n",
       "      <td>{'NoiseLevel': 'u'average'', 'BikeParking': 'F...</td>\n",
       "      <td>Sandwiches, Food, Restaurants, Breakfast &amp; Bru...</td>\n",
       "      <td>{'Monday': '6:0-21:0', 'Tuesday': '6:0-21:0', ...</td>\n",
       "    </tr>\n",
       "    <tr>\n",
       "      <th>35</th>\n",
       "      <td>iPD8BBvea6YldQZPHzVrSQ</td>\n",
       "      <td>Espresso Minute</td>\n",
       "      <td>Boston</td>\n",
       "      <td>MA</td>\n",
       "      <td>02115</td>\n",
       "      <td>42.342673</td>\n",
       "      <td>-71.084239</td>\n",
       "      <td>4.5</td>\n",
       "      <td>7</td>\n",
       "      <td>0</td>\n",
       "      <td>{'NoiseLevel': ''quiet'', 'GoodForKids': 'True...</td>\n",
       "      <td>Creperies, Restaurants, Food, Coffee &amp; Tea, Br...</td>\n",
       "      <td>{'Tuesday': '8:0-20:0', 'Wednesday': '8:0-20:0...</td>\n",
       "    </tr>\n",
       "    <tr>\n",
       "      <th>54</th>\n",
       "      <td>Z2JC3Yrz82kyS86zEVJG5A</td>\n",
       "      <td>Gigi's Roast Beef &amp; Pizza</td>\n",
       "      <td>Burlington</td>\n",
       "      <td>MA</td>\n",
       "      <td>01803</td>\n",
       "      <td>42.506935</td>\n",
       "      <td>-71.195854</td>\n",
       "      <td>3.0</td>\n",
       "      <td>16</td>\n",
       "      <td>0</td>\n",
       "      <td>{'RestaurantsTakeOut': 'True', 'NoiseLevel': '...</td>\n",
       "      <td>Restaurants, Sandwiches, Pizza</td>\n",
       "      <td>{'Monday': '11:0-21:0', 'Tuesday': '11:0-21:0'...</td>\n",
       "    </tr>\n",
       "  </tbody>\n",
       "</table>\n",
       "</div>"
      ],
      "text/plain": [
       "               business_id                       name        city state  \\\n",
       "12  HPA_qyMEddpAEtFof02ixg        Mr G's Pizza & Subs     Peabody    MA   \n",
       "26  hcRxdDg7DYryCxCoI8ySQA          Longwood Galleria      Boston    MA   \n",
       "29  jGennaZUr2MsJyRhijNBfA            Legal Sea Foods      Boston    MA   \n",
       "35  iPD8BBvea6YldQZPHzVrSQ            Espresso Minute      Boston    MA   \n",
       "54  Z2JC3Yrz82kyS86zEVJG5A  Gigi's Roast Beef & Pizza  Burlington    MA   \n",
       "\n",
       "   postal_code   latitude  longitude  business_stars  review_count  is_open  \\\n",
       "12       01960  42.541155 -70.973438             4.0            39        1   \n",
       "26       02215  42.338544 -71.106842             2.5            24        1   \n",
       "29       02128  42.363442 -71.025781             3.5           856        1   \n",
       "35       02115  42.342673 -71.084239             4.5             7        0   \n",
       "54       01803  42.506935 -71.195854             3.0            16        0   \n",
       "\n",
       "                                           attributes  \\\n",
       "12  {'RestaurantsGoodForGroups': 'True', 'HasTV': ...   \n",
       "26  {'RestaurantsPriceRange2': '1', 'BusinessAccep...   \n",
       "29  {'NoiseLevel': 'u'average'', 'BikeParking': 'F...   \n",
       "35  {'NoiseLevel': ''quiet'', 'GoodForKids': 'True...   \n",
       "54  {'RestaurantsTakeOut': 'True', 'NoiseLevel': '...   \n",
       "\n",
       "                                           categories  \\\n",
       "12                           Food, Pizza, Restaurants   \n",
       "26            Restaurants, Shopping, Shopping Centers   \n",
       "29  Sandwiches, Food, Restaurants, Breakfast & Bru...   \n",
       "35  Creperies, Restaurants, Food, Coffee & Tea, Br...   \n",
       "54                     Restaurants, Sandwiches, Pizza   \n",
       "\n",
       "                                                hours  \n",
       "12  {'Monday': '11:0-21:0', 'Tuesday': '11:0-21:0'...  \n",
       "26  {'Monday': '6:30-22:0', 'Tuesday': '6:30-22:0'...  \n",
       "29  {'Monday': '6:0-21:0', 'Tuesday': '6:0-21:0', ...  \n",
       "35  {'Tuesday': '8:0-20:0', 'Wednesday': '8:0-20:0...  \n",
       "54  {'Monday': '11:0-21:0', 'Tuesday': '11:0-21:0'...  "
      ]
     },
     "execution_count": 3,
     "metadata": {},
     "output_type": "execute_result"
    }
   ],
   "source": [
    "business.head()"
   ]
  },
  {
   "cell_type": "code",
   "execution_count": 9,
   "id": "67be1435-c7fc-44d7-8b24-a63136f495c4",
   "metadata": {},
   "outputs": [
    {
     "data": {
      "text/plain": [
       "(10480, 13)"
      ]
     },
     "execution_count": 9,
     "metadata": {},
     "output_type": "execute_result"
    }
   ],
   "source": [
    "business.shape"
   ]
  },
  {
   "cell_type": "code",
   "execution_count": 4,
   "id": "5264fb2e-08d0-4da6-ad6a-fe6a06a1524c",
   "metadata": {},
   "outputs": [
    {
     "data": {
      "text/html": [
       "<div>\n",
       "<style scoped>\n",
       "    .dataframe tbody tr th:only-of-type {\n",
       "        vertical-align: middle;\n",
       "    }\n",
       "\n",
       "    .dataframe tbody tr th {\n",
       "        vertical-align: top;\n",
       "    }\n",
       "\n",
       "    .dataframe thead th {\n",
       "        text-align: right;\n",
       "    }\n",
       "</style>\n",
       "<table border=\"1\" class=\"dataframe\">\n",
       "  <thead>\n",
       "    <tr style=\"text-align: right;\">\n",
       "      <th></th>\n",
       "      <th>user_id</th>\n",
       "      <th>business_id</th>\n",
       "      <th>stars</th>\n",
       "      <th>text</th>\n",
       "      <th>date</th>\n",
       "      <th>year</th>\n",
       "      <th>month</th>\n",
       "    </tr>\n",
       "  </thead>\n",
       "  <tbody>\n",
       "    <tr>\n",
       "      <th>0</th>\n",
       "      <td>ak0TdVmGKo4pwqdJSTLwWw</td>\n",
       "      <td>buF9druCkbuXLX526sGELQ</td>\n",
       "      <td>4.0</td>\n",
       "      <td>Apparently Prides Osteria had a rough summer a...</td>\n",
       "      <td>2014-10-11 03:34:02</td>\n",
       "      <td>2014</td>\n",
       "      <td>10</td>\n",
       "    </tr>\n",
       "    <tr>\n",
       "      <th>1</th>\n",
       "      <td>YoVfDbnISlW0f7abNQACIg</td>\n",
       "      <td>RA4V8pr014UyUbDvI-LW2A</td>\n",
       "      <td>4.0</td>\n",
       "      <td>This store is pretty good. Not as great as Wal...</td>\n",
       "      <td>2015-07-03 20:38:25</td>\n",
       "      <td>2015</td>\n",
       "      <td>7</td>\n",
       "    </tr>\n",
       "    <tr>\n",
       "      <th>2</th>\n",
       "      <td>eC5evKn1TWDyHCyQAwguUw</td>\n",
       "      <td>_sS2LBIGNT5NQb6PD1Vtjw</td>\n",
       "      <td>5.0</td>\n",
       "      <td>I called WVM on the recommendation of a couple...</td>\n",
       "      <td>2013-05-28 20:38:06</td>\n",
       "      <td>2013</td>\n",
       "      <td>5</td>\n",
       "    </tr>\n",
       "    <tr>\n",
       "      <th>3</th>\n",
       "      <td>SFQ1jcnGguO0LYWnbbftAA</td>\n",
       "      <td>0AzLzHfOJgL7ROwhdww2ew</td>\n",
       "      <td>2.0</td>\n",
       "      <td>I've stayed at many Marriott and Renaissance M...</td>\n",
       "      <td>2010-01-08 02:29:15</td>\n",
       "      <td>2010</td>\n",
       "      <td>1</td>\n",
       "    </tr>\n",
       "    <tr>\n",
       "      <th>4</th>\n",
       "      <td>0kA0PAJ8QFMeveQWHFqz2A</td>\n",
       "      <td>8zehGz9jnxPqXtOc7KaJxA</td>\n",
       "      <td>4.0</td>\n",
       "      <td>The food is always great here. The service fro...</td>\n",
       "      <td>2011-07-28 18:05:01</td>\n",
       "      <td>2011</td>\n",
       "      <td>7</td>\n",
       "    </tr>\n",
       "  </tbody>\n",
       "</table>\n",
       "</div>"
      ],
      "text/plain": [
       "                  user_id             business_id  stars  \\\n",
       "0  ak0TdVmGKo4pwqdJSTLwWw  buF9druCkbuXLX526sGELQ    4.0   \n",
       "1  YoVfDbnISlW0f7abNQACIg  RA4V8pr014UyUbDvI-LW2A    4.0   \n",
       "2  eC5evKn1TWDyHCyQAwguUw  _sS2LBIGNT5NQb6PD1Vtjw    5.0   \n",
       "3  SFQ1jcnGguO0LYWnbbftAA  0AzLzHfOJgL7ROwhdww2ew    2.0   \n",
       "4  0kA0PAJ8QFMeveQWHFqz2A  8zehGz9jnxPqXtOc7KaJxA    4.0   \n",
       "\n",
       "                                                text                date  \\\n",
       "0  Apparently Prides Osteria had a rough summer a... 2014-10-11 03:34:02   \n",
       "1  This store is pretty good. Not as great as Wal... 2015-07-03 20:38:25   \n",
       "2  I called WVM on the recommendation of a couple... 2013-05-28 20:38:06   \n",
       "3  I've stayed at many Marriott and Renaissance M... 2010-01-08 02:29:15   \n",
       "4  The food is always great here. The service fro... 2011-07-28 18:05:01   \n",
       "\n",
       "   year  month  \n",
       "0  2014     10  \n",
       "1  2015      7  \n",
       "2  2013      5  \n",
       "3  2010      1  \n",
       "4  2011      7  "
      ]
     },
     "execution_count": 4,
     "metadata": {},
     "output_type": "execute_result"
    }
   ],
   "source": [
    "reviews.head()"
   ]
  },
  {
   "cell_type": "code",
   "execution_count": 10,
   "id": "ca33b249-c6eb-4109-b309-2a908d1dfcea",
   "metadata": {},
   "outputs": [
    {
     "data": {
      "text/plain": [
       "(8635403, 7)"
      ]
     },
     "execution_count": 10,
     "metadata": {},
     "output_type": "execute_result"
    }
   ],
   "source": [
    "reviews.shape"
   ]
  },
  {
   "cell_type": "code",
   "execution_count": 5,
   "id": "62a98aec-136c-49f8-9c73-c23c97e7248a",
   "metadata": {},
   "outputs": [
    {
     "data": {
      "text/html": [
       "<div>\n",
       "<style scoped>\n",
       "    .dataframe tbody tr th:only-of-type {\n",
       "        vertical-align: middle;\n",
       "    }\n",
       "\n",
       "    .dataframe tbody tr th {\n",
       "        vertical-align: top;\n",
       "    }\n",
       "\n",
       "    .dataframe thead th {\n",
       "        text-align: right;\n",
       "    }\n",
       "</style>\n",
       "<table border=\"1\" class=\"dataframe\">\n",
       "  <thead>\n",
       "    <tr style=\"text-align: right;\">\n",
       "      <th></th>\n",
       "      <th>business_id</th>\n",
       "      <th>n_checkins</th>\n",
       "    </tr>\n",
       "  </thead>\n",
       "  <tbody>\n",
       "    <tr>\n",
       "      <th>0</th>\n",
       "      <td>--0r8K_AQ4FZfLsX3ZYRDA</td>\n",
       "      <td>1</td>\n",
       "    </tr>\n",
       "    <tr>\n",
       "      <th>1</th>\n",
       "      <td>--0zrn43LEaB4jUWTQH_Bg</td>\n",
       "      <td>9</td>\n",
       "    </tr>\n",
       "    <tr>\n",
       "      <th>2</th>\n",
       "      <td>--164t1nclzzmca7eDiJMw</td>\n",
       "      <td>311</td>\n",
       "    </tr>\n",
       "    <tr>\n",
       "      <th>3</th>\n",
       "      <td>--2aF9NhXnNVpDV0KS3xBQ</td>\n",
       "      <td>8</td>\n",
       "    </tr>\n",
       "    <tr>\n",
       "      <th>4</th>\n",
       "      <td>--2mEJ63SC_8_08_jGgVIg</td>\n",
       "      <td>4</td>\n",
       "    </tr>\n",
       "  </tbody>\n",
       "</table>\n",
       "</div>"
      ],
      "text/plain": [
       "              business_id  n_checkins\n",
       "0  --0r8K_AQ4FZfLsX3ZYRDA           1\n",
       "1  --0zrn43LEaB4jUWTQH_Bg           9\n",
       "2  --164t1nclzzmca7eDiJMw         311\n",
       "3  --2aF9NhXnNVpDV0KS3xBQ           8\n",
       "4  --2mEJ63SC_8_08_jGgVIg           4"
      ]
     },
     "execution_count": 5,
     "metadata": {},
     "output_type": "execute_result"
    }
   ],
   "source": [
    "checkin.head()"
   ]
  },
  {
   "cell_type": "code",
   "execution_count": 12,
   "id": "e073b60b-2395-4ef6-b262-18842aeefa12",
   "metadata": {},
   "outputs": [
    {
     "data": {
      "text/plain": [
       "(138876, 2)"
      ]
     },
     "execution_count": 12,
     "metadata": {},
     "output_type": "execute_result"
    }
   ],
   "source": [
    "checkin.shape"
   ]
  },
  {
   "cell_type": "code",
   "execution_count": 6,
   "id": "927d8c48-1ef9-412a-ba9a-8cffd1f44852",
   "metadata": {},
   "outputs": [
    {
     "data": {
      "text/html": [
       "<div>\n",
       "<style scoped>\n",
       "    .dataframe tbody tr th:only-of-type {\n",
       "        vertical-align: middle;\n",
       "    }\n",
       "\n",
       "    .dataframe tbody tr th {\n",
       "        vertical-align: top;\n",
       "    }\n",
       "\n",
       "    .dataframe thead th {\n",
       "        text-align: right;\n",
       "    }\n",
       "</style>\n",
       "<table border=\"1\" class=\"dataframe\">\n",
       "  <thead>\n",
       "    <tr style=\"text-align: right;\">\n",
       "      <th></th>\n",
       "      <th>user_id</th>\n",
       "      <th>business_id</th>\n",
       "      <th>tip</th>\n",
       "      <th>date</th>\n",
       "      <th>compliment_count</th>\n",
       "    </tr>\n",
       "  </thead>\n",
       "  <tbody>\n",
       "    <tr>\n",
       "      <th>0</th>\n",
       "      <td>WCjg0jdHXMlwbqS9tZUx8Q</td>\n",
       "      <td>ENwBByjpoa5Gg7tKgxqwLg</td>\n",
       "      <td>Carne asada chips...</td>\n",
       "      <td>2011-07-22 19:07:35</td>\n",
       "      <td>0</td>\n",
       "    </tr>\n",
       "    <tr>\n",
       "      <th>1</th>\n",
       "      <td>42-Z02y9bABShAGZhuSzrQ</td>\n",
       "      <td>jKO4Og6ucdX2-YCTKQVYjg</td>\n",
       "      <td>Best happy hour from 3pm to 6pm! $1 off martin...</td>\n",
       "      <td>2014-09-10 07:33:29</td>\n",
       "      <td>0</td>\n",
       "    </tr>\n",
       "    <tr>\n",
       "      <th>2</th>\n",
       "      <td>5u7E3LYp_3eB8dLuUBazXQ</td>\n",
       "      <td>9Bto7mky640ocgezVKSfVg</td>\n",
       "      <td>Nice people, skilled staff, clean location - b...</td>\n",
       "      <td>2013-12-13 23:23:41</td>\n",
       "      <td>0</td>\n",
       "    </tr>\n",
       "    <tr>\n",
       "      <th>3</th>\n",
       "      <td>wDWoMG5N9oI4DJ-p7z8EBg</td>\n",
       "      <td>XWFjKtRGZ9khRGtGg2ZvaA</td>\n",
       "      <td>1/2-price bowling &amp; the \"Very\" Old Fashion are...</td>\n",
       "      <td>2017-07-11 23:07:16</td>\n",
       "      <td>0</td>\n",
       "    </tr>\n",
       "    <tr>\n",
       "      <th>4</th>\n",
       "      <td>JmuFlorjjRshHTKzTwNtgg</td>\n",
       "      <td>mkrx0VhSMU3p3uhyJGCoWA</td>\n",
       "      <td>Solid gold's. Great sauna. Great staff, too. E...</td>\n",
       "      <td>2016-11-30 08:46:36</td>\n",
       "      <td>0</td>\n",
       "    </tr>\n",
       "  </tbody>\n",
       "</table>\n",
       "</div>"
      ],
      "text/plain": [
       "                  user_id             business_id  \\\n",
       "0  WCjg0jdHXMlwbqS9tZUx8Q  ENwBByjpoa5Gg7tKgxqwLg   \n",
       "1  42-Z02y9bABShAGZhuSzrQ  jKO4Og6ucdX2-YCTKQVYjg   \n",
       "2  5u7E3LYp_3eB8dLuUBazXQ  9Bto7mky640ocgezVKSfVg   \n",
       "3  wDWoMG5N9oI4DJ-p7z8EBg  XWFjKtRGZ9khRGtGg2ZvaA   \n",
       "4  JmuFlorjjRshHTKzTwNtgg  mkrx0VhSMU3p3uhyJGCoWA   \n",
       "\n",
       "                                                 tip                 date  \\\n",
       "0                               Carne asada chips...  2011-07-22 19:07:35   \n",
       "1  Best happy hour from 3pm to 6pm! $1 off martin...  2014-09-10 07:33:29   \n",
       "2  Nice people, skilled staff, clean location - b...  2013-12-13 23:23:41   \n",
       "3  1/2-price bowling & the \"Very\" Old Fashion are...  2017-07-11 23:07:16   \n",
       "4  Solid gold's. Great sauna. Great staff, too. E...  2016-11-30 08:46:36   \n",
       "\n",
       "   compliment_count  \n",
       "0                 0  \n",
       "1                 0  \n",
       "2                 0  \n",
       "3                 0  \n",
       "4                 0  "
      ]
     },
     "execution_count": 6,
     "metadata": {},
     "output_type": "execute_result"
    }
   ],
   "source": [
    "tip.head()"
   ]
  },
  {
   "cell_type": "code",
   "execution_count": 13,
   "id": "6f9f5ad5-d413-470f-80d8-f331c33ccf43",
   "metadata": {},
   "outputs": [
    {
     "data": {
      "text/plain": [
       "(1162119, 5)"
      ]
     },
     "execution_count": 13,
     "metadata": {},
     "output_type": "execute_result"
    }
   ],
   "source": [
    "tip.shape"
   ]
  },
  {
   "cell_type": "code",
   "execution_count": 14,
   "id": "3c849de9-b33c-4d44-9e23-90733c289654",
   "metadata": {},
   "outputs": [],
   "source": [
    "# Rename column names \n",
    "reviews.rename(columns={'stars': 'reviews_stars'}, inplace=True)"
   ]
  },
  {
   "cell_type": "code",
   "execution_count": 17,
   "id": "5944e651-394e-44fb-b168-f51e1fa40a7a",
   "metadata": {},
   "outputs": [
    {
     "data": {
      "text/plain": [
       "(10480, 14)"
      ]
     },
     "execution_count": 17,
     "metadata": {},
     "output_type": "execute_result"
    }
   ],
   "source": [
    "df = business.merge(checkin, 'left', on='business_id')\n",
    "df.shape"
   ]
  },
  {
   "cell_type": "code",
   "execution_count": 9,
   "id": "c5611844-aadc-4afc-99f7-625e18875ae5",
   "metadata": {},
   "outputs": [
    {
     "data": {
      "text/html": [
       "<div>\n",
       "<style scoped>\n",
       "    .dataframe tbody tr th:only-of-type {\n",
       "        vertical-align: middle;\n",
       "    }\n",
       "\n",
       "    .dataframe tbody tr th {\n",
       "        vertical-align: top;\n",
       "    }\n",
       "\n",
       "    .dataframe thead th {\n",
       "        text-align: right;\n",
       "    }\n",
       "</style>\n",
       "<table border=\"1\" class=\"dataframe\">\n",
       "  <thead>\n",
       "    <tr style=\"text-align: right;\">\n",
       "      <th></th>\n",
       "      <th>business_id</th>\n",
       "      <th>name</th>\n",
       "      <th>city</th>\n",
       "      <th>state</th>\n",
       "      <th>postal_code</th>\n",
       "      <th>latitude</th>\n",
       "      <th>longitude</th>\n",
       "      <th>business_stars</th>\n",
       "      <th>review_count</th>\n",
       "      <th>is_open</th>\n",
       "      <th>...</th>\n",
       "      <th>reviews_stars</th>\n",
       "      <th>text</th>\n",
       "      <th>date_x</th>\n",
       "      <th>year</th>\n",
       "      <th>month</th>\n",
       "      <th>user_id_y</th>\n",
       "      <th>tip</th>\n",
       "      <th>date_y</th>\n",
       "      <th>compliment_count</th>\n",
       "      <th>n_checkins</th>\n",
       "    </tr>\n",
       "  </thead>\n",
       "  <tbody>\n",
       "    <tr>\n",
       "      <th>0</th>\n",
       "      <td>HPA_qyMEddpAEtFof02ixg</td>\n",
       "      <td>Mr G's Pizza &amp; Subs</td>\n",
       "      <td>Peabody</td>\n",
       "      <td>MA</td>\n",
       "      <td>01960</td>\n",
       "      <td>42.541155</td>\n",
       "      <td>-70.973438</td>\n",
       "      <td>4.0</td>\n",
       "      <td>39</td>\n",
       "      <td>1</td>\n",
       "      <td>...</td>\n",
       "      <td>4.0</td>\n",
       "      <td>Pizza here is delicious. I tried it once a few...</td>\n",
       "      <td>2016-03-07 17:58:53</td>\n",
       "      <td>2016</td>\n",
       "      <td>3</td>\n",
       "      <td>BzS5iUHr_M9fYar_iwfx4w</td>\n",
       "      <td>Homemade bread is out of this world</td>\n",
       "      <td>2014-03-15 17:16:33</td>\n",
       "      <td>0</td>\n",
       "      <td>36</td>\n",
       "    </tr>\n",
       "    <tr>\n",
       "      <th>1</th>\n",
       "      <td>HPA_qyMEddpAEtFof02ixg</td>\n",
       "      <td>Mr G's Pizza &amp; Subs</td>\n",
       "      <td>Peabody</td>\n",
       "      <td>MA</td>\n",
       "      <td>01960</td>\n",
       "      <td>42.541155</td>\n",
       "      <td>-70.973438</td>\n",
       "      <td>4.0</td>\n",
       "      <td>39</td>\n",
       "      <td>1</td>\n",
       "      <td>...</td>\n",
       "      <td>4.0</td>\n",
       "      <td>Pizza here is delicious. I tried it once a few...</td>\n",
       "      <td>2016-03-07 17:58:53</td>\n",
       "      <td>2016</td>\n",
       "      <td>3</td>\n",
       "      <td>7lZcVVhqp6UCDLPKT7D2sg</td>\n",
       "      <td>So as I'm sitting here, I love the decor! Look...</td>\n",
       "      <td>2013-04-27 23:57:33</td>\n",
       "      <td>0</td>\n",
       "      <td>36</td>\n",
       "    </tr>\n",
       "    <tr>\n",
       "      <th>2</th>\n",
       "      <td>HPA_qyMEddpAEtFof02ixg</td>\n",
       "      <td>Mr G's Pizza &amp; Subs</td>\n",
       "      <td>Peabody</td>\n",
       "      <td>MA</td>\n",
       "      <td>01960</td>\n",
       "      <td>42.541155</td>\n",
       "      <td>-70.973438</td>\n",
       "      <td>4.0</td>\n",
       "      <td>39</td>\n",
       "      <td>1</td>\n",
       "      <td>...</td>\n",
       "      <td>4.0</td>\n",
       "      <td>Pizza here is delicious. I tried it once a few...</td>\n",
       "      <td>2016-03-07 17:58:53</td>\n",
       "      <td>2016</td>\n",
       "      <td>3</td>\n",
       "      <td>n6LKHLBr4y4NAs8sUUN1zA</td>\n",
       "      <td>Don't use the bathroom. They keep the cornmeal...</td>\n",
       "      <td>2014-06-07 03:26:32</td>\n",
       "      <td>0</td>\n",
       "      <td>36</td>\n",
       "    </tr>\n",
       "    <tr>\n",
       "      <th>3</th>\n",
       "      <td>HPA_qyMEddpAEtFof02ixg</td>\n",
       "      <td>Mr G's Pizza &amp; Subs</td>\n",
       "      <td>Peabody</td>\n",
       "      <td>MA</td>\n",
       "      <td>01960</td>\n",
       "      <td>42.541155</td>\n",
       "      <td>-70.973438</td>\n",
       "      <td>4.0</td>\n",
       "      <td>39</td>\n",
       "      <td>1</td>\n",
       "      <td>...</td>\n",
       "      <td>4.0</td>\n",
       "      <td>Pizza here is delicious. I tried it once a few...</td>\n",
       "      <td>2016-03-07 17:58:53</td>\n",
       "      <td>2016</td>\n",
       "      <td>3</td>\n",
       "      <td>iYJoqK_B1GKvDNv6tc5Arg</td>\n",
       "      <td>The pizza here is delicious! My favorite in th...</td>\n",
       "      <td>2012-08-07 00:11:51</td>\n",
       "      <td>0</td>\n",
       "      <td>36</td>\n",
       "    </tr>\n",
       "    <tr>\n",
       "      <th>4</th>\n",
       "      <td>HPA_qyMEddpAEtFof02ixg</td>\n",
       "      <td>Mr G's Pizza &amp; Subs</td>\n",
       "      <td>Peabody</td>\n",
       "      <td>MA</td>\n",
       "      <td>01960</td>\n",
       "      <td>42.541155</td>\n",
       "      <td>-70.973438</td>\n",
       "      <td>4.0</td>\n",
       "      <td>39</td>\n",
       "      <td>1</td>\n",
       "      <td>...</td>\n",
       "      <td>4.0</td>\n",
       "      <td>love this place! really good pizza and probabl...</td>\n",
       "      <td>2010-01-10 17:33:51</td>\n",
       "      <td>2010</td>\n",
       "      <td>1</td>\n",
       "      <td>BzS5iUHr_M9fYar_iwfx4w</td>\n",
       "      <td>Homemade bread is out of this world</td>\n",
       "      <td>2014-03-15 17:16:33</td>\n",
       "      <td>0</td>\n",
       "      <td>36</td>\n",
       "    </tr>\n",
       "  </tbody>\n",
       "</table>\n",
       "<p>5 rows × 24 columns</p>\n",
       "</div>"
      ],
      "text/plain": [
       "              business_id                 name     city state postal_code  \\\n",
       "0  HPA_qyMEddpAEtFof02ixg  Mr G's Pizza & Subs  Peabody    MA       01960   \n",
       "1  HPA_qyMEddpAEtFof02ixg  Mr G's Pizza & Subs  Peabody    MA       01960   \n",
       "2  HPA_qyMEddpAEtFof02ixg  Mr G's Pizza & Subs  Peabody    MA       01960   \n",
       "3  HPA_qyMEddpAEtFof02ixg  Mr G's Pizza & Subs  Peabody    MA       01960   \n",
       "4  HPA_qyMEddpAEtFof02ixg  Mr G's Pizza & Subs  Peabody    MA       01960   \n",
       "\n",
       "    latitude  longitude  business_stars  review_count  is_open  ...  \\\n",
       "0  42.541155 -70.973438             4.0            39        1  ...   \n",
       "1  42.541155 -70.973438             4.0            39        1  ...   \n",
       "2  42.541155 -70.973438             4.0            39        1  ...   \n",
       "3  42.541155 -70.973438             4.0            39        1  ...   \n",
       "4  42.541155 -70.973438             4.0            39        1  ...   \n",
       "\n",
       "  reviews_stars                                               text  \\\n",
       "0           4.0  Pizza here is delicious. I tried it once a few...   \n",
       "1           4.0  Pizza here is delicious. I tried it once a few...   \n",
       "2           4.0  Pizza here is delicious. I tried it once a few...   \n",
       "3           4.0  Pizza here is delicious. I tried it once a few...   \n",
       "4           4.0  love this place! really good pizza and probabl...   \n",
       "\n",
       "               date_x  year  month               user_id_y  \\\n",
       "0 2016-03-07 17:58:53  2016      3  BzS5iUHr_M9fYar_iwfx4w   \n",
       "1 2016-03-07 17:58:53  2016      3  7lZcVVhqp6UCDLPKT7D2sg   \n",
       "2 2016-03-07 17:58:53  2016      3  n6LKHLBr4y4NAs8sUUN1zA   \n",
       "3 2016-03-07 17:58:53  2016      3  iYJoqK_B1GKvDNv6tc5Arg   \n",
       "4 2010-01-10 17:33:51  2010      1  BzS5iUHr_M9fYar_iwfx4w   \n",
       "\n",
       "                                                 tip               date_y  \\\n",
       "0                Homemade bread is out of this world  2014-03-15 17:16:33   \n",
       "1  So as I'm sitting here, I love the decor! Look...  2013-04-27 23:57:33   \n",
       "2  Don't use the bathroom. They keep the cornmeal...  2014-06-07 03:26:32   \n",
       "3  The pizza here is delicious! My favorite in th...  2012-08-07 00:11:51   \n",
       "4                Homemade bread is out of this world  2014-03-15 17:16:33   \n",
       "\n",
       "   compliment_count n_checkins  \n",
       "0                 0         36  \n",
       "1                 0         36  \n",
       "2                 0         36  \n",
       "3                 0         36  \n",
       "4                 0         36  \n",
       "\n",
       "[5 rows x 24 columns]"
      ]
     },
     "execution_count": 9,
     "metadata": {},
     "output_type": "execute_result"
    }
   ],
   "source": [
    "# Merge business and reviews datasets into one\n",
    "business_reviews = business.merge(reviews, 'inner', on='business_id')\n",
    "business_reviews = business_reviews.merge(tip, 'inner', on='business_id')\n",
    "business_reviews = business_reviews.merge(checkin, 'inner', on='business_id')\n",
    "business_reviews.head()"
   ]
  },
  {
   "cell_type": "code",
   "execution_count": 10,
   "id": "ee5e7898-52d9-4a5d-9572-290365d74ef2",
   "metadata": {},
   "outputs": [
    {
     "data": {
      "text/plain": [
       "business_id               0\n",
       "name                      0\n",
       "city                      0\n",
       "state                     0\n",
       "postal_code               0\n",
       "latitude                  0\n",
       "longitude                 0\n",
       "business_stars            0\n",
       "review_count              0\n",
       "is_open                   0\n",
       "attributes                0\n",
       "categories                0\n",
       "hours               1459673\n",
       "user_id_x                 0\n",
       "reviews_stars             0\n",
       "text                      0\n",
       "date_x                    0\n",
       "year                      0\n",
       "month                     0\n",
       "user_id_y                 0\n",
       "tip                       0\n",
       "date_y                    0\n",
       "compliment_count          0\n",
       "n_checkins                0\n",
       "dtype: int64"
      ]
     },
     "execution_count": 10,
     "metadata": {},
     "output_type": "execute_result"
    }
   ],
   "source": [
    "business_reviews.isnull().sum()"
   ]
  },
  {
   "cell_type": "code",
   "execution_count": null,
   "id": "67787048-fce8-4062-bbc7-8984b5f2f81f",
   "metadata": {},
   "outputs": [],
   "source": [
    "# Drop 'hours' column, and duplicate columns\n",
    "business_reviews.drop(axis=1, columns=['hours', 'date_x', 'user_id_x', 'user_id_y', 'date_y'])"
   ]
  },
  {
   "cell_type": "code",
   "execution_count": null,
   "id": "5871ba5b-4b0f-4176-9da9-f79ee14e554a",
   "metadata": {},
   "outputs": [],
   "source": [
    "# Binarize the categories column\n",
    "mlb = MultiLabelBinarizer()\n",
    "categories_df = pd.DataFrame(mlb.fit_transform(business_reviews['categories'].str.split(',')),columns=mlb.classes_, index=business_reviews.index)"
   ]
  },
  {
   "cell_type": "code",
   "execution_count": 55,
   "id": "3eda2c88-724b-4407-b26a-364632015fc9",
   "metadata": {},
   "outputs": [
    {
     "ename": "TypeError",
     "evalue": "'float' object is not iterable",
     "output_type": "error",
     "traceback": [
      "\u001b[0;31m---------------------------------------------------------------------------\u001b[0m",
      "\u001b[0;31mTypeError\u001b[0m                                 Traceback (most recent call last)",
      "\u001b[0;32m<ipython-input-55-3fec0a105eeb>\u001b[0m in \u001b[0;36m<module>\u001b[0;34m\u001b[0m\n\u001b[0;32m----> 1\u001b[0;31m \u001b[0mpd\u001b[0m\u001b[0;34m.\u001b[0m\u001b[0mDataFrame\u001b[0m\u001b[0;34m(\u001b[0m\u001b[0mmlb\u001b[0m\u001b[0;34m.\u001b[0m\u001b[0mfit_transform\u001b[0m\u001b[0;34m(\u001b[0m\u001b[0mbusiness_reviews\u001b[0m\u001b[0;34m[\u001b[0m\u001b[0;34m'attributes'\u001b[0m\u001b[0;34m]\u001b[0m\u001b[0;34m.\u001b[0m\u001b[0mstr\u001b[0m\u001b[0;34m.\u001b[0m\u001b[0msplit\u001b[0m\u001b[0;34m(\u001b[0m\u001b[0;34m','\u001b[0m\u001b[0;34m)\u001b[0m\u001b[0;34m)\u001b[0m\u001b[0;34m,\u001b[0m\u001b[0mcolumns\u001b[0m\u001b[0;34m=\u001b[0m\u001b[0mmlb\u001b[0m\u001b[0;34m.\u001b[0m\u001b[0mclasses_\u001b[0m\u001b[0;34m,\u001b[0m \u001b[0mindex\u001b[0m\u001b[0;34m=\u001b[0m\u001b[0mbusiness_reviews\u001b[0m\u001b[0;34m.\u001b[0m\u001b[0mindex\u001b[0m\u001b[0;34m)\u001b[0m\u001b[0;34m\u001b[0m\u001b[0;34m\u001b[0m\u001b[0m\n\u001b[0m",
      "\u001b[0;32m~/opt/anaconda3/envs/dsi-111/lib/python3.9/site-packages/sklearn/preprocessing/_label.py\u001b[0m in \u001b[0;36mfit_transform\u001b[0;34m(self, y)\u001b[0m\n\u001b[1;32m    779\u001b[0m         \u001b[0mclass_mapping\u001b[0m \u001b[0;34m=\u001b[0m \u001b[0mdefaultdict\u001b[0m\u001b[0;34m(\u001b[0m\u001b[0mint\u001b[0m\u001b[0;34m)\u001b[0m\u001b[0;34m\u001b[0m\u001b[0;34m\u001b[0m\u001b[0m\n\u001b[1;32m    780\u001b[0m         \u001b[0mclass_mapping\u001b[0m\u001b[0;34m.\u001b[0m\u001b[0mdefault_factory\u001b[0m \u001b[0;34m=\u001b[0m \u001b[0mclass_mapping\u001b[0m\u001b[0;34m.\u001b[0m\u001b[0m__len__\u001b[0m\u001b[0;34m\u001b[0m\u001b[0;34m\u001b[0m\u001b[0m\n\u001b[0;32m--> 781\u001b[0;31m         \u001b[0myt\u001b[0m \u001b[0;34m=\u001b[0m \u001b[0mself\u001b[0m\u001b[0;34m.\u001b[0m\u001b[0m_transform\u001b[0m\u001b[0;34m(\u001b[0m\u001b[0my\u001b[0m\u001b[0;34m,\u001b[0m \u001b[0mclass_mapping\u001b[0m\u001b[0;34m)\u001b[0m\u001b[0;34m\u001b[0m\u001b[0;34m\u001b[0m\u001b[0m\n\u001b[0m\u001b[1;32m    782\u001b[0m \u001b[0;34m\u001b[0m\u001b[0m\n\u001b[1;32m    783\u001b[0m         \u001b[0;31m# sort classes and reorder columns\u001b[0m\u001b[0;34m\u001b[0m\u001b[0;34m\u001b[0m\u001b[0;34m\u001b[0m\u001b[0m\n",
      "\u001b[0;32m~/opt/anaconda3/envs/dsi-111/lib/python3.9/site-packages/sklearn/preprocessing/_label.py\u001b[0m in \u001b[0;36m_transform\u001b[0;34m(self, y, class_mapping)\u001b[0m\n\u001b[1;32m    850\u001b[0m         \u001b[0;32mfor\u001b[0m \u001b[0mlabels\u001b[0m \u001b[0;32min\u001b[0m \u001b[0my\u001b[0m\u001b[0;34m:\u001b[0m\u001b[0;34m\u001b[0m\u001b[0;34m\u001b[0m\u001b[0m\n\u001b[1;32m    851\u001b[0m             \u001b[0mindex\u001b[0m \u001b[0;34m=\u001b[0m \u001b[0mset\u001b[0m\u001b[0;34m(\u001b[0m\u001b[0;34m)\u001b[0m\u001b[0;34m\u001b[0m\u001b[0;34m\u001b[0m\u001b[0m\n\u001b[0;32m--> 852\u001b[0;31m             \u001b[0;32mfor\u001b[0m \u001b[0mlabel\u001b[0m \u001b[0;32min\u001b[0m \u001b[0mlabels\u001b[0m\u001b[0;34m:\u001b[0m\u001b[0;34m\u001b[0m\u001b[0;34m\u001b[0m\u001b[0m\n\u001b[0m\u001b[1;32m    853\u001b[0m                 \u001b[0;32mtry\u001b[0m\u001b[0;34m:\u001b[0m\u001b[0;34m\u001b[0m\u001b[0;34m\u001b[0m\u001b[0m\n\u001b[1;32m    854\u001b[0m                     \u001b[0mindex\u001b[0m\u001b[0;34m.\u001b[0m\u001b[0madd\u001b[0m\u001b[0;34m(\u001b[0m\u001b[0mclass_mapping\u001b[0m\u001b[0;34m[\u001b[0m\u001b[0mlabel\u001b[0m\u001b[0;34m]\u001b[0m\u001b[0;34m)\u001b[0m\u001b[0;34m\u001b[0m\u001b[0;34m\u001b[0m\u001b[0m\n",
      "\u001b[0;31mTypeError\u001b[0m: 'float' object is not iterable"
     ]
    }
   ],
   "source": [
    "pd.DataFrame(mlb.fit_transform(business_reviews['attributes'].str.split(',')),columns=mlb.classes_, index=business_reviews.index)"
   ]
  },
  {
   "cell_type": "markdown",
   "id": "f05c8548-c2e2-4fb3-bf76-e75e03eba393",
   "metadata": {},
   "source": [
    "# EDA"
   ]
  },
  {
   "cell_type": "code",
   "execution_count": 23,
   "id": "8bb6a60a-e2f1-4227-bca4-babf2b5a3fdc",
   "metadata": {},
   "outputs": [
    {
     "data": {
      "text/plain": [
       "<seaborn.axisgrid.FacetGrid at 0x10f752a00>"
      ]
     },
     "execution_count": 23,
     "metadata": {},
     "output_type": "execute_result"
    },
    {
     "data": {
      "image/png": "[encoded data removed]",
      "text/plain": [
       "<Figure size 360x360 with 1 Axes>"
      ]
     },
     "metadata": {
      "needs_background": "light"
     },
     "output_type": "display_data"
    }
   ],
   "source": [
    "sns.displot(business_reviews['year'], )"
   ]
  },
  {
   "cell_type": "code",
   "execution_count": 31,
   "id": "0b072798-ddf9-4ad0-993c-0c107e038626",
   "metadata": {},
   "outputs": [
    {
     "data": {
      "text/plain": [
       "<seaborn.axisgrid.FacetGrid at 0x2904aa640>"
      ]
     },
     "execution_count": 31,
     "metadata": {},
     "output_type": "execute_result"
    },
    {
     "data": {
      "image/png": "[encoded data removed]",
      "text/plain": [
       "<Figure size 360x360 with 1 Axes>"
      ]
     },
     "metadata": {
      "needs_background": "light"
     },
     "output_type": "display_data"
    }
   ],
   "source": [
    "sns.displot(business_reviews['business_stars'] )"
   ]
  },
  {
   "cell_type": "code",
   "execution_count": null,
   "id": "c417c00d-4adb-4170-80b8-845ebf44de6c",
   "metadata": {},
   "outputs": [],
   "source": []
  }
 ],
 "metadata": {
  "kernelspec": {
   "display_name": "Python 3",
   "language": "python",
   "name": "python3"
  },
  "language_info": {
   "codemirror_mode": {
    "name": "ipython",
    "version": 3
   },
   "file_extension": ".py",
   "mimetype": "text/x-python",
   "name": "python",
   "nbconvert_exporter": "python",
   "pygments_lexer": "ipython3",
   "version": "3.9.4"
  }
 },
 "nbformat": 4,
 "nbformat_minor": 5
}
